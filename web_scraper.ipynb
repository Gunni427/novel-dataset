{
 "cells": [
  {
   "cell_type": "markdown",
   "metadata": {},
   "source": [
    "Scrapes the novelupdates webpage, http://www.novelupdates.com/\n",
    "for novel information and cleans it.\n",
    "Finally saves the dataset as a csv file.\n",
    "\n",
    "Didn't find any easy way to get all the novel ids, hence, the novels listing is first used to get all ids."
   ]
  },
  {
   "cell_type": "code",
   "execution_count": 37,
   "metadata": {},
   "outputs": [],
   "source": [
    "import requests\n",
    "from bs4 import BeautifulSoup\n",
    "import pandas as pd\n",
    "import time\n",
    "import re\n",
    "\n",
    "novels_page = \"http://www.novelupdates.com/novelslisting/?st=1&pg=\""
   ]
  },
  {
   "cell_type": "code",
   "execution_count": 76,
   "metadata": {},
   "outputs": [],
   "source": [
    "# Get the maximum number of novel pages from the listings\n",
    "\n",
    "def get_novel_list_max_pages(page):\n",
    "    soup = BeautifulSoup(page.content, 'html.parser')\n",
    "    dig_pag = soup.find('div', attrs={'class':'digg_pagination'})\n",
    "    page_links = dig_pag.find_all('a')\n",
    "    last_page_link = str(page_links[2]) # The last page is the 3rd\n",
    "    num = re.search('pg=\\d+', last_page_link).group()[3:]\n",
    "    return int(num)\n",
    "\n",
    "page = requests.get(novels_page + '1')\n",
    "novels_max_pages = get_novel_list_max_pages(page)"
   ]
  },
  {
   "cell_type": "code",
   "execution_count": 77,
   "metadata": {},
   "outputs": [],
   "source": [
    "# Get all novel ids from the novels listing\n",
    "def get_novel_ids(page):\n",
    "    soup = BeautifulSoup(page.content, 'html.parser')\n",
    "    table = soup.find('table', attrs={'id':'myTable'})\n",
    "    table_body = table.find('tbody')\n",
    "    rows = table_body.find_all('tr')\n",
    "    \n",
    "    novel_ids = []\n",
    "    for row in rows:\n",
    "        col = row.find_all('td')[-1]\n",
    "        novel_id = col.a['id'][3:]\n",
    "        novel_ids.append(novel_id)\n",
    "    return novel_ids\n",
    "\n",
    "all_novel_ids = []\n",
    "for i in range(1,novels_max_pages+1):\n",
    "    page = requests.get(novels_page + str(i))\n",
    "    novel_ids = get_novel_ids(page)\n",
    "    all_novel_ids.extend(novel_ids)\n",
    "    time.sleep(1)\n",
    "\n",
    "df = pd.DataFrame(all_novel_ids, columns=['Id'])\n",
    "df.to_csv(\"novel_ids_small.csv\", index=False)      # temporary"
   ]
  },
  {
   "cell_type": "code",
   "execution_count": 75,
   "metadata": {},
   "outputs": [
    {
     "data": {
      "text/plain": [
       "<bound method NDFrame.head of        Id   test\n",
       "0    1173   1176\n",
       "1    1175   1178\n",
       "2    1177   1180\n",
       "3   13038  13041\n",
       "4    1171   1174\n",
       "5    2042   2045\n",
       "6    6612   6615\n",
       "7   11133  11136\n",
       "8    9343   9346\n",
       "9    8233   8236\n",
       "10   7959   7962\n",
       "11   2696   2699\n",
       "12  13155  13158\n",
       "13   2742   2745\n",
       "14   7145   7148\n",
       "15   5400   5403\n",
       "16   9314   9317\n",
       "17  10927  10930\n",
       "18   1179   1182\n",
       "19  12408  12411\n",
       "20  13080  13083\n",
       "21   1069   1072\n",
       "22  13197  13200\n",
       "23  12584  12587\n",
       "24   1181   1184\n",
       "25   1183   1186\n",
       "26   3992   3995\n",
       "27   1185   1188\n",
       "28   8674   8677\n",
       "29  10925  10928\n",
       "..    ...    ...\n",
       "45  11499  11502\n",
       "46   8512   8515\n",
       "47   7756   7759\n",
       "48    399    402\n",
       "49   2151   2154\n",
       "50   8074   8077\n",
       "51  13558  13561\n",
       "52   7151   7154\n",
       "53    564    567\n",
       "54   4300   4303\n",
       "55   9038   9041\n",
       "56   2085   2088\n",
       "57  11393  11396\n",
       "58  11677  11680\n",
       "59  13384  13387\n",
       "60   2693   2696\n",
       "61  13576  13579\n",
       "62   2765   2768\n",
       "63   9120   9123\n",
       "64   7591   7594\n",
       "65  13207  13210\n",
       "66  10394  10397\n",
       "67   2568   2571\n",
       "68   2366   2369\n",
       "69   2771   2774\n",
       "70  11115  11118\n",
       "71   7160   7163\n",
       "72   3729   3732\n",
       "73  12576  12579\n",
       "74   6807   6810\n",
       "\n",
       "[75 rows x 2 columns]>"
      ]
     },
     "execution_count": 75,
     "metadata": {},
     "output_type": "execute_result"
    }
   ],
   "source": [
    "df = pd.read_csv(\"novel_ids_small.csv\") # temporary\n",
    "\n",
    "def parse_novel_page(id):\n",
    "    # open page\n",
    "    # parse for wanted elements (create a map for these? name-> how to find it)\n",
    "    # return these as a map (name -> result)\n",
    "    # add these as new columns to the df\n",
    "    return id + 3\n",
    "    \n",
    "df['test'] = df.apply(lambda x: parse_novel_page(x['Id']), axis=1)\n",
    "df.head"
   ]
  },
  {
   "cell_type": "code",
   "execution_count": null,
   "metadata": {},
   "outputs": [],
   "source": []
  }
 ],
 "metadata": {
  "kernelspec": {
   "display_name": "Python 3",
   "language": "python",
   "name": "python3"
  },
  "language_info": {
   "codemirror_mode": {
    "name": "ipython",
    "version": 3
   },
   "file_extension": ".py",
   "mimetype": "text/x-python",
   "name": "python",
   "nbconvert_exporter": "python",
   "pygments_lexer": "ipython3",
   "version": "3.5.2"
  }
 },
 "nbformat": 4,
 "nbformat_minor": 2
}
