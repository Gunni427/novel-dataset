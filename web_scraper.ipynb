{
 "cells": [
  {
   "cell_type": "markdown",
   "metadata": {},
   "source": [
    "Scrapes the novelupdates webpage, http://www.novelupdates.com/\n",
    "for novel information and cleans it.\n",
    "Finally saves the dataset as a csv file.\n",
    "\n",
    "Didn't find any easy way to get all the novel ids, hence, the novels listing is first used to get all ids."
   ]
  },
  {
   "cell_type": "code",
   "execution_count": 1,
   "metadata": {},
   "outputs": [],
   "source": [
    "import requests\n",
    "from bs4 import BeautifulSoup\n",
    "import time\n",
    "import pandas as pd"
   ]
  },
  {
   "cell_type": "code",
   "execution_count": 5,
   "metadata": {},
   "outputs": [
    {
     "name": "stdout",
     "output_type": "stream",
     "text": [
      "<bound method NDFrame.head of         0\n",
      "0    1173\n",
      "1    1175\n",
      "2    1177\n",
      "3   13038\n",
      "4    1171\n",
      "5    2042\n",
      "6    6612\n",
      "7   11133\n",
      "8    9343\n",
      "9    8233\n",
      "10   7959\n",
      "11   2696\n",
      "12  13155\n",
      "13   2742\n",
      "14   7145\n",
      "15   5400\n",
      "16   9314\n",
      "17  10927\n",
      "18   1179\n",
      "19  12408\n",
      "20  13080\n",
      "21   1069\n",
      "22  13197\n",
      "23  12584\n",
      "24   1181\n",
      "25   1183\n",
      "26   3992\n",
      "27   1185\n",
      "28   8674\n",
      "29  10925\n",
      "..    ...\n",
      "45  11499\n",
      "46   8512\n",
      "47   7756\n",
      "48    399\n",
      "49   2151\n",
      "50   8074\n",
      "51  13558\n",
      "52   7151\n",
      "53    564\n",
      "54   4300\n",
      "55   9038\n",
      "56   2085\n",
      "57  11393\n",
      "58  11677\n",
      "59  13384\n",
      "60   2693\n",
      "61  13576\n",
      "62   2765\n",
      "63   9120\n",
      "64   7591\n",
      "65  13207\n",
      "66  10394\n",
      "67   2568\n",
      "68   2366\n",
      "69   2771\n",
      "70  11115\n",
      "71   7160\n",
      "72   3729\n",
      "73  12576\n",
      "74   6807\n",
      "\n",
      "[75 rows x 1 columns]>\n"
     ]
    }
   ],
   "source": [
    "# Get all novel ids from the novels listing\n",
    "\n",
    "novels_page = \"http://www.novelupdates.com/novelslisting/?st=1&pg=\"\n",
    "novels_max_pages = 3 #120\n",
    "\n",
    "\n",
    "def get_novel_ids(page):\n",
    "    soup = BeautifulSoup(page.content, 'html.parser')\n",
    "    table = soup.find('table', attrs={'id':'myTable'})\n",
    "    table_body = table.find('tbody')\n",
    "    rows = table_body.find_all('tr')\n",
    "    \n",
    "    novel_ids = []\n",
    "    for row in rows:\n",
    "        col = row.find_all('td')[-1]\n",
    "        novel_id = col.a['id'][3:]\n",
    "        novel_ids.append(novel_id)\n",
    "    return novel_ids\n",
    "\n",
    "all_novel_ids = []\n",
    "for i in range(1,novels_max_pages+1):\n",
    "    page = requests.get(novels_page + str(i))\n",
    "    novel_ids = get_novel_ids(page)\n",
    "    all_novel_ids.extend(novel_ids)\n",
    "    time.sleep(1)\n",
    "\n",
    "df = pd.DataFrame(all_novel_ids)\n",
    "print(df.head)\n",
    "df.to_csv(\"novel_ids.csv\")"
   ]
  },
  {
   "cell_type": "code",
   "execution_count": null,
   "metadata": {},
   "outputs": [],
   "source": []
  }
 ],
 "metadata": {
  "kernelspec": {
   "display_name": "Python 3",
   "language": "python",
   "name": "python3"
  },
  "language_info": {
   "codemirror_mode": {
    "name": "ipython",
    "version": 3
   },
   "file_extension": ".py",
   "mimetype": "text/x-python",
   "name": "python",
   "nbconvert_exporter": "python",
   "pygments_lexer": "ipython3",
   "version": "3.5.2"
  }
 },
 "nbformat": 4,
 "nbformat_minor": 2
}
