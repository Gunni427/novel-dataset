{
 "cells": [
  {
   "cell_type": "markdown",
   "metadata": {},
   "source": [
    "# Novel dataset web scraper\n",
    "\n",
    "Gathers novel information from novelupdates, i.e. http://www.novelupdates.com/.  \n",
    "The data is then cleaned and arranged into a dataset.  \n",
    "The dataset is finally saved as a csv file."
   ]
  },
  {
   "cell_type": "code",
   "execution_count": 56,
   "metadata": {},
   "outputs": [
    {
     "name": "stdout",
     "output_type": "stream",
     "text": [
      "The autoreload extension is already loaded. To reload it, use:\n",
      "  %reload_ext autoreload\n"
     ]
    }
   ],
   "source": [
    "%load_ext autoreload\n",
    "%autoreload 2\n",
    "\n",
    "import pandas as pd\n",
    "from scraper import NovelScraper\n",
    "\n",
    "# Display all columns when showing dataframes\n",
    "pd.set_option('display.max_columns', None)"
   ]
  },
  {
   "cell_type": "code",
   "execution_count": 57,
   "metadata": {},
   "outputs": [],
   "source": [
    "version = '0.1.1'"
   ]
  },
  {
   "cell_type": "code",
   "execution_count": 58,
   "metadata": {
    "scrolled": true
   },
   "outputs": [
    {
     "name": "stdout",
     "output_type": "stream",
     "text": [
      "Debug run, running with: 1\n",
      "Processing novel: 34622\n",
      "Processing novel: 2765\n",
      "Processing novel: 34618\n",
      "Processing novel: 17893\n",
      "Processing novel: 11764\n",
      "Processing novel: 33122\n",
      "Processing novel: 32889\n",
      "Processing novel: 18024\n",
      "Processing novel: 26588\n",
      "Processing novel: 29443\n",
      "Processing novel: 34656\n",
      "Processing novel: 31046\n",
      "Processing novel: 13538\n",
      "Processing novel: 34817\n",
      "Processing novel: 34864\n",
      "Processing novel: 16868\n",
      "Processing novel: 23803\n",
      "Processing novel: 25545\n",
      "Processing novel: 27453\n",
      "Processing novel: 34820\n",
      "Processing novel: 34904\n",
      "Processing novel: 30540\n",
      "Processing novel: 7847\n",
      "Processing novel: 23502\n",
      "Processing novel: 31859\n"
     ]
    }
   ],
   "source": [
    "debug = True\n",
    "scraper = NovelScraper(debug=debug)\n",
    "novel_info = scraper.parse_all_novels()"
   ]
  },
  {
   "cell_type": "code",
   "execution_count": null,
   "metadata": {},
   "outputs": [],
   "source": [
    "df = pd.DataFrame(novel_info)\n",
    "\n",
    "if not debug:\n",
    "    file_name = 'novels_' + version + '.csv'\n",
    "else:\n",
    "    file_name = 'novels_debug.csv'\n",
    "    \n",
    "df.to_csv(file_name, header=True, index=False)"
   ]
  }
 ],
 "metadata": {
  "kernelspec": {
   "display_name": "Python 3.7",
   "language": "python",
   "name": "python37"
  },
  "language_info": {
   "codemirror_mode": {
    "name": "ipython",
    "version": 3
   },
   "file_extension": ".py",
   "mimetype": "text/x-python",
   "name": "python",
   "nbconvert_exporter": "python",
   "pygments_lexer": "ipython3",
   "version": "3.7.5"
  }
 },
 "nbformat": 4,
 "nbformat_minor": 2
}
