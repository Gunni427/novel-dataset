{
 "cells": [
  {
   "cell_type": "code",
   "execution_count": null,
   "metadata": {},
   "outputs": [],
   "source": [
    "import re\n",
    "import random\n",
    "import pandas as pd\n",
    "import numpy as np\n",
    "import networkx as nx\n",
    "from itertools import count\n",
    "import matplotlib.pyplot as plt"
   ]
  },
  {
   "cell_type": "code",
   "execution_count": null,
   "metadata": {
    "scrolled": true
   },
   "outputs": [],
   "source": [
    "version = '0.1.2'\n",
    "file_name = 'novels_' + version + '.csv'\n",
    "df = pd.read_csv(file_name, na_values='NaN')\n",
    "\n",
    "n = 600\n",
    "df = df.iloc[:600]"
   ]
  },
  {
   "cell_type": "code",
   "execution_count": null,
   "metadata": {},
   "outputs": [],
   "source": [
    "G = nx.Graph()\n",
    "\n",
    "# Add nodes\n",
    "def get_node_label(s, genre_priority):\n",
    "    genres = re.sub(\"['\\[\\]]\", '', s).split(\", \")\n",
    "    return {'genre': min([genre_priority.get(g, len(genre_priority)) for g in genres])}\n",
    "    \n",
    "# Ordered priority for genres (reversed)\n",
    "genre_priority = [\"action\", \"romance\", \"comedy\", \"fantasy\", \"tragedy\", \"mystery\", \"horror\", \"sci-fi\"]\n",
    "genre_priority = dict(zip(genre_priority[::-1], count()))\n",
    "\n",
    "nodes = [(t[0], get_node_label(t[1], genre_priority)) for t in df[['id', 'genres']].values]\n",
    "genre_priority[\"unknown\"] = len(genre_priority)\n",
    "G.add_nodes_from(nodes)\n",
    "\n",
    "# Add edges\n",
    "edge_attr = 'recommended_series_ids'\n",
    "df_edge = df.loc[~df[edge_attr].isnull()].copy()\n",
    "df_edge[edge_attr] = df_edge.loc[:, edge_attr].str.strip('[]').str.split(',')\n",
    "edges = [(novel[0], int(edge)) for novel in df_edge[['id', edge_attr]].values for edge in novel[1]]\n",
    "edges = [edge for edge in edges if edge[1] in [node[0] for node in nodes]]\n",
    "G.add_edges_from(edges)\n",
    "\n",
    "# Remove any nodes with no edges\n",
    "G.remove_nodes_from(list(nx.isolates(G)))\n",
    "\n",
    "# Remove any nodes within small components\n",
    "for component in list(nx.connected_components(G)):\n",
    "    if len(component)<5:\n",
    "        for node in component:\n",
    "            G.remove_node(node)\n",
    "\n",
    "print('Number of nodes:', G.number_of_nodes())\n",
    "print('Number of edges:', G.number_of_edges())"
   ]
  },
  {
   "cell_type": "code",
   "execution_count": null,
   "metadata": {
    "scrolled": false
   },
   "outputs": [],
   "source": [
    "fig = plt.figure(figsize=(20, 10)) \n",
    "colors = list(nx.get_node_attributes(G, 'genre').values())\n",
    "\n",
    "# nx.draw_kamada_kawai(G, node_color=colors, node_size=500, with_labels=False, cmap=plt.cm.jet) \n",
    "nx.draw_spring(G, node_color=colors, node_size=500, with_labels=False, cmap=plt.cm.jet) \n",
    "\n",
    "labels = {v:k for k,v in genre_priority.items()}\n",
    "for c in np.unique(colors):\n",
    "    plt.scatter([], [], c=[plt.cm.jet(c / max(colors))], label=labels[c])\n",
    "\n",
    "#plt.axis('equal') \n",
    "plt.legend(prop={'size': 20})\n",
    "plt.show() \n",
    "fig.savefig('graph.svg')"
   ]
  },
  {
   "cell_type": "code",
   "execution_count": null,
   "metadata": {},
   "outputs": [],
   "source": []
  },
  {
   "cell_type": "code",
   "execution_count": null,
   "metadata": {},
   "outputs": [],
   "source": []
  },
  {
   "cell_type": "code",
   "execution_count": null,
   "metadata": {},
   "outputs": [],
   "source": []
  },
  {
   "cell_type": "code",
   "execution_count": null,
   "metadata": {},
   "outputs": [],
   "source": []
  },
  {
   "cell_type": "code",
   "execution_count": null,
   "metadata": {},
   "outputs": [],
   "source": []
  },
  {
   "cell_type": "code",
   "execution_count": null,
   "metadata": {},
   "outputs": [],
   "source": []
  }
 ],
 "metadata": {
  "kernelspec": {
   "display_name": "Python 3",
   "language": "python",
   "name": "python3"
  },
  "language_info": {
   "codemirror_mode": {
    "name": "ipython",
    "version": 3
   },
   "file_extension": ".py",
   "mimetype": "text/x-python",
   "name": "python",
   "nbconvert_exporter": "python",
   "pygments_lexer": "ipython3",
   "version": "3.7.4"
  }
 },
 "nbformat": 4,
 "nbformat_minor": 2
}
