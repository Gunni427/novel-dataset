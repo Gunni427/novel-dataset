{
 "cells": [
  {
   "cell_type": "markdown",
   "metadata": {},
   "source": [
    "## Read CSV file and create a graph"
   ]
  },
  {
   "cell_type": "code",
   "execution_count": 84,
   "metadata": {},
   "outputs": [],
   "source": [
    "import re\n",
    "import pandas as pd\n",
    "import numpy as np\n",
    "import networkx as nx\n",
    "from itertools import count\n",
    "import matplotlib.pyplot as plt"
   ]
  },
  {
   "cell_type": "code",
   "execution_count": 85,
   "metadata": {},
   "outputs": [],
   "source": [
    "version = '0.1.2'\n",
    "file_name = 'novels_' + version + '.csv'"
   ]
  },
  {
   "cell_type": "code",
   "execution_count": 86,
   "metadata": {
    "scrolled": true
   },
   "outputs": [
    {
     "name": "stdout",
     "output_type": "stream",
     "text": [
      "Number of nodes: 7726\n",
      "Number of edges: 20134\n"
     ]
    }
   ],
   "source": [
    "df = pd.read_csv(file_name, na_values='NaN')\n",
    "#df = df.iloc[:200]\n",
    "\n",
    "G = nx.Graph()\n",
    "\n",
    "# Add nodes\n",
    "def get_node_label(s, genre_priority):\n",
    "    genres = re.sub(\"['\\[\\]]\", '', s).split(\", \")\n",
    "    return {'genre': min([genre_priority.get(g, len(genre_priority)) for g in genres])}\n",
    "\n",
    "\n",
    "genre_priority = ['action', 'comedy', 'fantasy', 'romance', \"tragedy\", \"xianxia\", \"adventure\", \n",
    "                  \"mystery\", \"drama\", \"horror\", \"sci-fi\", \"mature\", \"school life\", \"supernatural\"]\n",
    "genre_priority = dict(zip(genre_priority[::-1], count()))\n",
    "\n",
    "nodes = [(t[0], get_node_label(t[1], genre_priority)) for t in df[['id', 'genres']].values]\n",
    "G.add_nodes_from(nodes)\n",
    "\n",
    "#TODO: Add colors depending on genre (ordered priority)\n",
    "\n",
    "# Add edges\n",
    "edge_attr = 'recommended_series_ids'\n",
    "df_edge = df.loc[~df[edge_attr].isnull()].copy()\n",
    "df_edge[edge_attr] = df_edge.loc[:, edge_attr].str.strip('[]').str.split(',')\n",
    "edges = [(novel[0], int(edge)) for novel in df_edge[['id', edge_attr]].values for edge in novel[1]]\n",
    "G.add_edges_from(edges)\n",
    "\n",
    "print('Number of nodes:', G.number_of_nodes())\n",
    "print('Number of edges:', G.number_of_edges())"
   ]
  },
  {
   "cell_type": "code",
   "execution_count": null,
   "metadata": {
    "scrolled": true
   },
   "outputs": [],
   "source": [
    "fig = plt.figure(figsize=(40, 20)) \n",
    "colors = list(nx.get_node_attributes(G, 'genre').values())\n",
    "#nx.draw_kamada_kawai(G, node_size=500) \n",
    "nx.draw_kamada_kawai(G, node_color=colors, node_size=500, with_labels=False, cmap=plt.cm.jet) \n",
    "#plt.axis('equal') \n",
    "plt.show() \n",
    "fig.savefig('graph.svg') "
   ]
  },
  {
   "cell_type": "code",
   "execution_count": null,
   "metadata": {
    "scrolled": true
   },
   "outputs": [],
   "source": []
  },
  {
   "cell_type": "code",
   "execution_count": null,
   "metadata": {
    "scrolled": true
   },
   "outputs": [],
   "source": []
  },
  {
   "cell_type": "code",
   "execution_count": null,
   "metadata": {},
   "outputs": [],
   "source": []
  },
  {
   "cell_type": "code",
   "execution_count": null,
   "metadata": {
    "scrolled": true
   },
   "outputs": [],
   "source": []
  },
  {
   "cell_type": "code",
   "execution_count": null,
   "metadata": {
    "scrolled": true
   },
   "outputs": [],
   "source": []
  },
  {
   "cell_type": "code",
   "execution_count": null,
   "metadata": {},
   "outputs": [],
   "source": []
  },
  {
   "cell_type": "code",
   "execution_count": null,
   "metadata": {},
   "outputs": [],
   "source": []
  },
  {
   "cell_type": "code",
   "execution_count": null,
   "metadata": {},
   "outputs": [],
   "source": []
  }
 ],
 "metadata": {
  "kernelspec": {
   "display_name": "Python 3.7",
   "language": "python",
   "name": "python37"
  },
  "language_info": {
   "codemirror_mode": {
    "name": "ipython",
    "version": 3
   },
   "file_extension": ".py",
   "mimetype": "text/x-python",
   "name": "python",
   "nbconvert_exporter": "python",
   "pygments_lexer": "ipython3",
   "version": "3.7.5"
  }
 },
 "nbformat": 4,
 "nbformat_minor": 4
}
